{
 "cells": [
  {
   "cell_type": "code",
   "execution_count": 1,
   "metadata": {},
   "outputs": [
    {
     "name": "stderr",
     "output_type": "stream",
     "text": [
      "c:\\Users\\kornat.rafal\\AppData\\Local\\Programs\\Python\\Python39\\lib\\site-packages\\pandas\\core\\indexing.py:1684: SettingWithCopyWarning: \n",
      "A value is trying to be set on a copy of a slice from a DataFrame.\n",
      "Try using .loc[row_indexer,col_indexer] = value instead\n",
      "\n",
      "See the caveats in the documentation: https://pandas.pydata.org/pandas-docs/stable/user_guide/indexing.html#returning-a-view-versus-a-copy\n",
      "  self.obj[key] = infer_fill_value(value)\n",
      "c:\\Users\\kornat.rafal\\AppData\\Local\\Programs\\Python\\Python39\\lib\\site-packages\\pandas\\core\\indexing.py:1817: SettingWithCopyWarning: \n",
      "A value is trying to be set on a copy of a slice from a DataFrame.\n",
      "Try using .loc[row_indexer,col_indexer] = value instead\n",
      "\n",
      "See the caveats in the documentation: https://pandas.pydata.org/pandas-docs/stable/user_guide/indexing.html#returning-a-view-versus-a-copy\n",
      "  self._setitem_single_column(loc, value, pi)\n"
     ]
    },
    {
     "name": "stdout",
     "output_type": "stream",
     "text": [
      "<class 'pandas.core.frame.DataFrame'>\n"
     ]
    }
   ],
   "source": [
    "import pandas as pd\n",
    "import os\n",
    "from datetime import datetime \n",
    "import xml.etree.ElementTree as ET\n",
    "from Script.NADUVI_OPTIMA import NADUVI_to_XML, NADUVI_csv_to_check_xlsx\n",
    "\n",
    "if len(os.listdir(\"start\"))==1:\n",
    "    path_file  = \"start/\"+os.listdir(\"start\")[0]\n",
    "df_NADUVI = pd.read_csv(path_file)\n",
    "df_NADUVI = NADUVI_csv_to_check_xlsx(df_NADUVI)\n",
    "df_NADUVI.to_excel(\"production/werification.xlsx\")\n",
    "os.startfile(os.path.abspath(\"production/werification.xlsx\"))"
   ]
  },
  {
   "cell_type": "code",
   "execution_count": 2,
   "metadata": {},
   "outputs": [],
   "source": [
    "input_1 = int(input(\"Wpisz 1 w celu utworzenia plików XML, w celu przerwania wpisz coś innego.\"))\n",
    "if input_1 == 1:\n",
    "    df = pd.read_excel('production/werification.xlsx')\n",
    "\n",
    "    if os.path.exists(str(datetime.date(datetime.now())))==False:\n",
    "        os.makedirs(str(datetime.date(datetime.now()))) \n",
    "        for i in df[\"No.\"].unique():\n",
    "            j0 = df[df[\"No.\"]==i].index[0]\n",
    "\n",
    "            string_xml = NADUVI_to_XML(df,j0,i)\n",
    "            path_1 = str(datetime.date(datetime.now()))+\"/\" +\"XML\"+str(i//30)\n",
    "            if os.path.exists(path_1)==False:\n",
    "                os.makedirs(path_1) \n",
    "\n",
    "            myfile = open(path_1+\"/\"+str(i)+\"_import.xml\", \"w\")\n",
    "            myfile.write(string_xml)\n",
    "            myfile.close()\n",
    "    else:\n",
    "        print(\"Folder exists\")\n",
    "else:\n",
    "    print(\"Zakończono\")"
   ]
  }
 ],
 "metadata": {
  "kernelspec": {
   "display_name": "Python 3.9.6 64-bit",
   "language": "python",
   "name": "python3"
  },
  "language_info": {
   "codemirror_mode": {
    "name": "ipython",
    "version": 3
   },
   "file_extension": ".py",
   "mimetype": "text/x-python",
   "name": "python",
   "nbconvert_exporter": "python",
   "pygments_lexer": "ipython3",
   "version": "3.9.6"
  },
  "orig_nbformat": 4,
  "vscode": {
   "interpreter": {
    "hash": "bf4a2de3c2cf56078064b33d792988288dcfe4f636c808c2f3bbb20bf9ba5c1d"
   }
  }
 },
 "nbformat": 4,
 "nbformat_minor": 2
}
